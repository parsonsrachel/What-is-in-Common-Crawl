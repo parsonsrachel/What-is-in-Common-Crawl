{
 "cells": [
  {
   "cell_type": "code",
   "execution_count": 1,
   "id": "070fc067-e048-47fb-9625-397e9c6750c6",
   "metadata": {},
   "outputs": [],
   "source": [
    "import os\n",
    "import re\n",
    "import json\n",
    "import requests\n",
    "import warcio\n",
    "import sqlite3\n",
    "import random\n",
    "import whatsincc.file_operations as cc_fo"
   ]
  },
  {
   "cell_type": "code",
   "execution_count": 6,
   "id": "dc57259e-9c8b-468d-8c38-592e1498a04d",
   "metadata": {},
   "outputs": [
    {
     "data": {
      "text/plain": [
       "<sqlite3.Cursor at 0x7fa2d431a6c0>"
      ]
     },
     "execution_count": 6,
     "metadata": {},
     "output_type": "execute_result"
    }
   ],
   "source": [
    "con = sqlite3.connect(\"../data/cc_sample.db\")\n",
    "cur = con.cursor()\n",
    "cur.execute(\"CREATE TABLE wet_records(warc_block_digest, target_url, warc_date, content_language, content_length, wet_path)\")"
   ]
  },
  {
   "cell_type": "code",
   "execution_count": 7,
   "id": "c4787942-6bb1-4422-8044-71e2fc1cbec9",
   "metadata": {},
   "outputs": [],
   "source": [
    "with open(\"../data/available_crawls.json\", \"r\") as f:\n",
    "    crawls = json.load(f)\n",
    "\n",
    "# For testing purpose:\n",
    "crawls = [crawls[0]]"
   ]
  },
  {
   "cell_type": "code",
   "execution_count": 8,
   "id": "fd183bf5-2541-420f-bef4-fc8e161102f0",
   "metadata": {},
   "outputs": [],
   "source": [
    "for crawl in crawls:\n",
    "    wet_paths_url = f\"https://data.commoncrawl.org/crawl-data/{crawl}/wet.paths.gz\"\n",
    "    wet_paths_file = cc_fo.download_file(wet_paths_url, decompress=True)\n",
    "\n",
    "    sample_size = 5\n",
    "    with open(wet_paths_file, \"r\") as f:\n",
    "        wet_paths_sample = [line.rstrip() for line in random.sample(list(f), sample_size)]\n",
    "\n",
    "    for wet_path in wet_paths_sample:\n",
    "        wet_url = f\"https://data.commoncrawl.org/{wet_path}\"\n",
    "\n",
    "        with requests.get(wet_url, stream=True) as r:\n",
    "            for record in warcio.ArchiveIterator(r.raw):\n",
    "                if record.rec_type == \"conversion\":\n",
    "                    rec_block_digest = record.rec_headers.get_header('WARC-Block-Digest')\n",
    "                    rec_date = record.rec_headers.get_header('WARC-Date')\n",
    "                    rec_lan =  record.rec_headers.get_header('WARC-Identified-Content-Language')\n",
    "                    rec_url = record.rec_headers.get_header('WARC-Target-URI')\n",
    "                    rec_len = int(record.rec_headers.get_header('Content-Length'))\n",
    "                    rec_content = record.content_stream().read().decode('utf-8')\n",
    "\n",
    "                    data = (rec_block_digest, rec_url, rec_date, rec_lan, rec_len, wet_path)\n",
    "\n",
    "                    cur.execute(f\"INSERT INTO wet_records VALUES(?,?,?,?,?,?)\", data)\n",
    "            con.commit()"
   ]
  },
  {
   "cell_type": "code",
   "execution_count": null,
   "id": "31c93bb9-275a-4c1e-994e-53946e16daab",
   "metadata": {},
   "outputs": [],
   "source": []
  }
 ],
 "metadata": {
  "kernelspec": {
   "display_name": "Python 3 (ipykernel)",
   "language": "python",
   "name": "python3"
  },
  "language_info": {
   "codemirror_mode": {
    "name": "ipython",
    "version": 3
   },
   "file_extension": ".py",
   "mimetype": "text/x-python",
   "name": "python",
   "nbconvert_exporter": "python",
   "pygments_lexer": "ipython3",
   "version": "3.9.18"
  }
 },
 "nbformat": 4,
 "nbformat_minor": 5
}
